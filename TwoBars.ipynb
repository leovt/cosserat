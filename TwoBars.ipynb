{
 "cells": [
  {
   "cell_type": "markdown",
   "metadata": {},
   "source": [
    "https://lcvmwww.epfl.ch/~lcvm/dna_teaching_05_06/exercises/ex5.pdf\n",
    "\n",
    "$$E(\\theta, \\phi, \\lambda) = \\frac12 \\theta^2 + \\frac12(\\phi - \\theta)^2 + \\lambda(\\cos\\theta + \\cos\\phi)$$"
   ]
  },
  {
   "cell_type": "code",
   "execution_count": 2,
   "metadata": {},
   "outputs": [],
   "source": [
    "from math import sin, cos\n",
    "def energy(theta, phi, lam):\n",
    "    return 0.5 * theta ** 2 + 0.5 * (phi - theta)**2 + lam * (cos(theta) + cos(phi))"
   ]
  },
  {
   "cell_type": "markdown",
   "metadata": {},
   "source": [
    "The equilibrium condition is given by \n",
    "$$0 = \\frac{\\partial E}{\\partial \\theta} = \\theta + \\theta - \\phi - \\lambda\\sin\\theta = 2\\theta-\\phi- \\lambda\\sin\\theta,\\quad\n",
    "  0 = \\frac{\\partial E}{\\partial \\phi} = \\phi - \\theta - \\lambda\\sin\\phi$$\n"
   ]
  },
  {
   "cell_type": "code",
   "execution_count": 3,
   "metadata": {},
   "outputs": [],
   "source": [
    "def F(theta, phi, lam):\n",
    "    return 2*theta - phi - lam * sin(theta), phi - theta - lam * sin(phi)"
   ]
  },
  {
   "cell_type": "markdown",
   "metadata": {},
   "source": [
    "The Jacobian of F is given by \n",
    "$$J = \\begin{pmatrix}2-\\lambda\\cos(\\theta) & -1\\\\-1 & 1-\\lambda\\cos\\phi\\end{pmatrix}$$"
   ]
  },
  {
   "cell_type": "code",
   "execution_count": 4,
   "metadata": {},
   "outputs": [
    {
     "data": {
      "text/plain": [
       "array([[ 2., -1.],\n",
       "       [-1.,  1.]])"
      ]
     },
     "execution_count": 4,
     "metadata": {},
     "output_type": "execute_result"
    }
   ],
   "source": [
    "import numpy as np\n",
    "def J(theta, phi, lam):\n",
    "    return np.array([[2-lam*cos(theta), -1], [-1, 1-lam*cos(phi)]])\n",
    "J(0,0,0)"
   ]
  },
  {
   "cell_type": "markdown",
   "metadata": {},
   "source": [
    "In the case of the straight rod (\\theta = \\phi = 0) J(0,0,\\lambda) is singular when $$\\lambda^2 - 3\\lambda + 1 = 0$$\n",
    "thus when $\\lambda = \\frac12(3\\pm\\sqrt5)$"
   ]
  },
  {
   "cell_type": "code",
   "execution_count": 5,
   "metadata": {},
   "outputs": [
    {
     "data": {
      "text/plain": [
       "array([[ 1.61803399, -1.        ],\n",
       "       [-1.        ,  0.61803399]])"
      ]
     },
     "execution_count": 5,
     "metadata": {},
     "output_type": "execute_result"
    }
   ],
   "source": [
    "J(0,0,0.5*(3-5**.5))"
   ]
  },
  {
   "cell_type": "code",
   "execution_count": 6,
   "metadata": {},
   "outputs": [
    {
     "data": {
      "text/plain": [
       "array([[-0.61803399, -1.        ],\n",
       "       [-1.        , -1.61803399]])"
      ]
     },
     "execution_count": 6,
     "metadata": {},
     "output_type": "execute_result"
    }
   ],
   "source": [
    "J(0,0,0.5*(3+5**.5))"
   ]
  },
  {
   "cell_type": "markdown",
   "metadata": {},
   "source": [
    "The null spaces are spanned by $(1, \\frac12(\\sqrt5+1))$ and $(\\frac12(\\sqrt5+1), -1)$ respectively"
   ]
  },
  {
   "cell_type": "code",
   "execution_count": 15,
   "metadata": {},
   "outputs": [
    {
     "data": {
      "text/plain": [
       "(array([0.00000000e+00, 2.22044605e-16]),\n",
       " array([-2.22044605e-16,  0.00000000e+00]))"
      ]
     },
     "execution_count": 15,
     "metadata": {},
     "output_type": "execute_result"
    }
   ],
   "source": [
    "J(0,0,0.5*(3-5**.5)) @ np.array([1,0.5*(5**0.5+1)]), J(0,0,0.5*(3+5**.5)) @ np.array([0.5*(5**0.5+1), -1])"
   ]
  },
  {
   "cell_type": "markdown",
   "metadata": {},
   "source": [
    "## Stability\n",
    "The hessian is identical to J in this case. Its eigenvalues are given by\n",
    "$$\\mu_1\\mu_2 = \\det J(0,0,\\lambda) = \\lambda^2 - 3\\lambda+1\\quad\\text{and}$$\n",
    "$$\\mu_1 + \\mu_2 = \\operatorname{tr}J(0,0,\\lambda) = 3-2\\lambda$$\n",
    "Thus for $\\lambda < \\frac12(3-\\sqrt5)$ and $\\lambda > \\frac12(3+\\sqrt5)$ the eigenvalues have the same sign, and in between they have opposite signs. For $\\lambda < \\frac12(3-\\sqrt5)$ their sum is positive thus the two eigenvalues are positive and for $\\lambda > \\frac12(3+\\sqrt5)$ their sum is negative and thus they are both negative."
   ]
  },
  {
   "cell_type": "code",
   "execution_count": 18,
   "metadata": {},
   "outputs": [
    {
     "data": {
      "text/plain": [
       "(array([2.31803399, 0.08196601]),\n",
       " array([[ 0.85065081,  0.52573111],\n",
       "        [-0.52573111,  0.85065081]]))"
      ]
     },
     "execution_count": 18,
     "metadata": {},
     "output_type": "execute_result"
    }
   ],
   "source": [
    "np.linalg.eig(J(0,0,0.3))"
   ]
  },
  {
   "cell_type": "code",
   "execution_count": 21,
   "metadata": {},
   "outputs": [
    {
     "data": {
      "text/plain": [
       "(array([ 1.11803399, -1.11803399]),\n",
       " array([[ 0.85065081,  0.52573111],\n",
       "        [-0.52573111,  0.85065081]]))"
      ]
     },
     "execution_count": 21,
     "metadata": {},
     "output_type": "execute_result"
    }
   ],
   "source": [
    "np.linalg.eig(J(0,0,1.5))"
   ]
  },
  {
   "cell_type": "code",
   "execution_count": 22,
   "metadata": {},
   "outputs": [
    {
     "data": {
      "text/plain": [
       "(array([-0.08196601, -2.31803399]),\n",
       " array([[ 0.85065081,  0.52573111],\n",
       "        [-0.52573111,  0.85065081]]))"
      ]
     },
     "execution_count": 22,
     "metadata": {},
     "output_type": "execute_result"
    }
   ],
   "source": [
    "np.linalg.eig(J(0,0,2.7))"
   ]
  },
  {
   "cell_type": "code",
   "execution_count": 24,
   "metadata": {},
   "outputs": [
    {
     "data": {
      "text/plain": [
       "(array([2.23606798e+00, 1.11022302e-16]),\n",
       " array([[ 0.85065081,  0.52573111],\n",
       "        [-0.52573111,  0.85065081]]))"
      ]
     },
     "execution_count": 24,
     "metadata": {},
     "output_type": "execute_result"
    }
   ],
   "source": [
    "np.linalg.eig(J(0,0,0.5*(3-5**.5)))"
   ]
  },
  {
   "cell_type": "markdown",
   "metadata": {},
   "source": [
    "# Bifurcation Shape"
   ]
  },
  {
   "cell_type": "code",
   "execution_count": 16,
   "metadata": {},
   "outputs": [],
   "source": [
    "from sympy import *\n",
    "eps, phi, the, lam, E = symbols('ε φ θ λ E')"
   ]
  },
  {
   "cell_type": "code",
   "execution_count": 26,
   "metadata": {},
   "outputs": [
    {
     "data": {
      "text/latex": [
       "$\\displaystyle ε^{3} θ_{3} + ε^{2} θ_{2} + ε θ_{1} + θ_{0}$"
      ],
      "text/plain": [
       "ε**3*θ_3 + ε**2*θ_2 + ε*θ_1 + θ_0"
      ]
     },
     "execution_count": 26,
     "metadata": {},
     "output_type": "execute_result"
    }
   ],
   "source": [
    "phi_ = symbols(['φ_%d' % i for i in range(4)])\n",
    "the_ = symbols(['θ_%d' % i for i in range(4)])\n",
    "lam_ = symbols(['λ_%d' % i for i in range(4)])\n",
    "phi_eps = sum(eps**i * phi_[i] for i in range(4))\n",
    "the_eps = sum(eps**i * the_[i] for i in range(4))\n",
    "lam_eps = sum(eps**i * lam_[i] for i in range(4))\n",
    "the_eps"
   ]
  },
  {
   "cell_type": "code",
   "execution_count": 18,
   "metadata": {},
   "outputs": [],
   "source": [
    "E = (the**2 + (phi-the)**2)/2 + lam*(cos(phi)+cos(the))"
   ]
  },
  {
   "cell_type": "code",
   "execution_count": 24,
   "metadata": {},
   "outputs": [],
   "source": [
    "F1, F2 = diff(E, the), diff(E, phi)"
   ]
  },
  {
   "cell_type": "code",
   "execution_count": 30,
   "metadata": {},
   "outputs": [],
   "source": [
    "F1_eps = F1.subs([(the, the_eps), (phi, phi_eps), (lam, lam_eps)])"
   ]
  },
  {
   "cell_type": "code",
   "execution_count": 31,
   "metadata": {},
   "outputs": [
    {
     "data": {
      "text/latex": [
       "$\\displaystyle 2 θ_{0} - λ_{0} \\sin{\\left(θ_{0} \\right)} - φ_{0}$"
      ],
      "text/plain": [
       "2*θ_0 - λ_0*sin(θ_0) - φ_0"
      ]
     },
     "execution_count": 31,
     "metadata": {},
     "output_type": "execute_result"
    }
   ],
   "source": [
    "F1_eps.subs(eps,0)"
   ]
  },
  {
   "cell_type": "code",
   "execution_count": 33,
   "metadata": {},
   "outputs": [
    {
     "data": {
      "text/latex": [
       "$\\displaystyle - θ_{1} λ_{0} \\cos{\\left(θ_{0} \\right)} + 2 θ_{1} - λ_{1} \\sin{\\left(θ_{0} \\right)} - φ_{1}$"
      ],
      "text/plain": [
       "-θ_1*λ_0*cos(θ_0) + 2*θ_1 - λ_1*sin(θ_0) - φ_1"
      ]
     },
     "execution_count": 33,
     "metadata": {},
     "output_type": "execute_result"
    }
   ],
   "source": [
    "diff(F1_eps, eps).subs(eps, 0)"
   ]
  },
  {
   "cell_type": "code",
   "execution_count": 35,
   "metadata": {},
   "outputs": [
    {
     "data": {
      "text/plain": [
       "[-θ_0 - λ_0*sin(φ_0) + φ_0,\n",
       " 2*θ_0 - λ_0*sin(θ_0) - φ_0,\n",
       " -θ_1 - λ_0*φ_1*cos(φ_0) - λ_1*sin(φ_0) + φ_1,\n",
       " -θ_1*λ_0*cos(θ_0) + 2*θ_1 - λ_1*sin(θ_0) - φ_1,\n",
       " -4*θ_2 + 2*λ_0*φ_1**2*sin(φ_0) - 4*λ_0*φ_2*cos(φ_0) - 4*λ_1*φ_1*cos(φ_0) - 4*λ_2*sin(φ_0) + 4*φ_2,\n",
       " 2*θ_1**2*λ_0*sin(θ_0) - 4*θ_1*λ_1*cos(θ_0) - 4*θ_2*λ_0*cos(θ_0) + 8*θ_2 - 4*λ_2*sin(θ_0) - 4*φ_2,\n",
       " -36*θ_3 + 6*λ_0*φ_1**3*cos(φ_0) + 36*λ_0*φ_1*φ_2*sin(φ_0) - 36*λ_0*φ_3*cos(φ_0) + 18*λ_1*φ_1**2*sin(φ_0) - 36*λ_1*φ_2*cos(φ_0) - 36*λ_2*φ_1*cos(φ_0) - 36*λ_3*sin(φ_0) + 36*φ_3,\n",
       " 6*θ_1**3*λ_0*cos(θ_0) + 18*θ_1**2*λ_1*sin(θ_0) + 36*θ_1*θ_2*λ_0*sin(θ_0) - 36*θ_1*λ_2*cos(θ_0) - 36*θ_2*λ_1*cos(θ_0) - 36*θ_3*λ_0*cos(θ_0) + 72*θ_3 - 36*λ_3*sin(θ_0) - 36*φ_3]"
      ]
     },
     "execution_count": 35,
     "metadata": {},
     "output_type": "execute_result"
    }
   ],
   "source": [
    "conditions = [\n",
    "    diff(diff(E, x).subs([(the, the_eps), (phi, phi_eps), (lam, lam_eps)]), eps, i).subs(eps, 0) * factorial(i)\n",
    "    for i in range(4)\n",
    "    for x in (phi, the)\n",
    "]; conditions"
   ]
  },
  {
   "cell_type": "code",
   "execution_count": 40,
   "metadata": {},
   "outputs": [
    {
     "data": {
      "text/plain": [
       "[0,\n",
       " 0,\n",
       " -θ_1 - φ_1*(3/2 - sqrt(5)/2) + φ_1,\n",
       " -θ_1*(3/2 - sqrt(5)/2) + 2*θ_1 - φ_1,\n",
       " -4*θ_2 - 4*λ_1*φ_1 - 4*φ_2*(3/2 - sqrt(5)/2) + 4*φ_2,\n",
       " -4*θ_1*λ_1 - 4*θ_2*(3/2 - sqrt(5)/2) + 8*θ_2 - 4*φ_2,\n",
       " -36*θ_3 - 36*λ_1*φ_2 - 36*λ_2*φ_1 + 6*φ_1**3*(3/2 - sqrt(5)/2) - 36*φ_3*(3/2 - sqrt(5)/2) + 36*φ_3,\n",
       " 6*θ_1**3*(3/2 - sqrt(5)/2) - 36*θ_1*λ_2 - 36*θ_2*λ_1 - 36*θ_3*(3/2 - sqrt(5)/2) + 72*θ_3 - 36*φ_3]"
      ]
     },
     "execution_count": 40,
     "metadata": {},
     "output_type": "execute_result"
    }
   ],
   "source": [
    "cond_1 = [c.subs([(the_[0], 0), (phi_[0],0), (lam_[0], (3-sqrt(5))/2)]) for c in conditions]; cond_1"
   ]
  },
  {
   "cell_type": "code",
   "execution_count": 44,
   "metadata": {},
   "outputs": [
    {
     "data": {
      "text/latex": [
       "$\\displaystyle \\left\\{\\left( \\frac{φ_{1} \\left(-1 + \\sqrt{5}\\right)}{2}, \\  φ_{1}\\right)\\right\\}$"
      ],
      "text/plain": [
       "FiniteSet((φ_1*(-1 + sqrt(5))/2, φ_1))"
      ]
     },
     "execution_count": 44,
     "metadata": {},
     "output_type": "execute_result"
    }
   ],
   "source": [
    "from sympy.solvers.solveset import linsolve\n",
    "linsolve(cond_1[:4], (the_[1], phi_[1]))\n"
   ]
  },
  {
   "cell_type": "code",
   "execution_count": 56,
   "metadata": {},
   "outputs": [
    {
     "data": {
      "text/plain": [
       "[0,\n",
       " 0,\n",
       " 0,\n",
       " 0,\n",
       " -4*θ_2 - 4*λ_1 - 2*φ_2 + 2*sqrt(5)*φ_2,\n",
       " 2*θ_2 + 2*sqrt(5)*θ_2 - 2*sqrt(5)*λ_1 + 2*λ_1 - 4*φ_2,\n",
       " -36*θ_3 - 36*λ_1*φ_2 - 36*λ_2 - 18*φ_3 + 18*sqrt(5)*φ_3 - 3*sqrt(5) + 9,\n",
       " -36*θ_2*λ_1 + 18*θ_3 + 18*sqrt(5)*θ_3 - 18*sqrt(5)*λ_2 + 18*λ_2 - 36*φ_3 - 33 + 15*sqrt(5)]"
      ]
     },
     "execution_count": 56,
     "metadata": {},
     "output_type": "execute_result"
    }
   ],
   "source": [
    "cond_2 = [c.subs([(phi_[1],1), (the_[1], (sqrt(5)-1)/2)]).simplify() for c in cond_1]\n",
    "#cond_2[4] /= 2\n",
    "#cond_2[5] /= (1+sqrt(5))\n",
    "#cond_2[5] = cond_2[5].simplify()\n",
    "cond_2"
   ]
  },
  {
   "cell_type": "code",
   "execution_count": 57,
   "metadata": {},
   "outputs": [
    {
     "data": {
      "text/latex": [
       "$\\displaystyle \\left\\{\\left( \\frac{φ_{2} \\left(-1 + \\sqrt{5}\\right)}{2}, \\  φ_{2}, \\  0\\right)\\right\\}$"
      ],
      "text/plain": [
       "FiniteSet((φ_2*(-1 + sqrt(5))/2, φ_2, 0))"
      ]
     },
     "execution_count": 57,
     "metadata": {},
     "output_type": "execute_result"
    }
   ],
   "source": [
    "linsolve(cond_2[:6], (the_[2], phi_[2], lam_[1]))"
   ]
  },
  {
   "cell_type": "code",
   "execution_count": 59,
   "metadata": {},
   "outputs": [
    {
     "data": {
      "text/plain": [
       "[0,\n",
       " 0,\n",
       " 0,\n",
       " 0,\n",
       " 0,\n",
       " 0,\n",
       " -36*θ_3 - 36*λ_2 - 18*φ_3 + 18*sqrt(5)*φ_3 - 3*sqrt(5) + 9,\n",
       " 18*θ_3 + 18*sqrt(5)*θ_3 - 18*sqrt(5)*λ_2 + 18*λ_2 - 36*φ_3 - 33 + 15*sqrt(5)]"
      ]
     },
     "execution_count": 59,
     "metadata": {},
     "output_type": "execute_result"
    }
   ],
   "source": [
    "cond_3 = [c.subs([(phi_[2],1), (the_[2], (sqrt(5)-1)/2), (lam_[1], 0)]).simplify() for c in cond_2]\n",
    "cond_3"
   ]
  },
  {
   "cell_type": "code",
   "execution_count": 60,
   "metadata": {},
   "outputs": [
    {
     "data": {
      "text/latex": [
       "$\\displaystyle \\left\\{\\left( - \\frac{φ_{3} \\left(1 - \\sqrt{5}\\right)}{2} - \\frac{1}{4} + \\frac{7 \\sqrt{5}}{60}, \\  φ_{3}, \\  \\frac{1}{2} - \\frac{\\sqrt{5}}{5}\\right)\\right\\}$"
      ],
      "text/plain": [
       "FiniteSet((-φ_3*(1 - sqrt(5))/2 - 1/4 + 7*sqrt(5)/60, φ_3, 1/2 - sqrt(5)/5))"
      ]
     },
     "execution_count": 60,
     "metadata": {},
     "output_type": "execute_result"
    }
   ],
   "source": [
    "linsolve(cond_3, (the_[3], phi_[3], lam_[2]))"
   ]
  },
  {
   "cell_type": "code",
   "execution_count": null,
   "metadata": {},
   "outputs": [],
   "source": []
  },
  {
   "cell_type": "code",
   "execution_count": null,
   "metadata": {},
   "outputs": [],
   "source": []
  },
  {
   "cell_type": "code",
   "execution_count": null,
   "metadata": {},
   "outputs": [],
   "source": []
  },
  {
   "cell_type": "code",
   "execution_count": null,
   "metadata": {},
   "outputs": [],
   "source": []
  },
  {
   "cell_type": "code",
   "execution_count": null,
   "metadata": {},
   "outputs": [],
   "source": []
  }
 ],
 "metadata": {
  "kernelspec": {
   "display_name": "Python 3",
   "language": "python",
   "name": "python3"
  },
  "language_info": {
   "codemirror_mode": {
    "name": "ipython",
    "version": 3
   },
   "file_extension": ".py",
   "mimetype": "text/x-python",
   "name": "python",
   "nbconvert_exporter": "python",
   "pygments_lexer": "ipython3",
   "version": "3.7.3"
  }
 },
 "nbformat": 4,
 "nbformat_minor": 4
}
