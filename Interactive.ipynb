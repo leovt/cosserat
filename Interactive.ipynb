{
 "cells": [
  {
   "cell_type": "markdown",
   "metadata": {},
   "source": [
    "# The Two-Rigid-Rod-Problem\n",
    "\n",
    "The problem is taken from a series of exercises in a numerical analysis course by Prof. John H. Maddocks.\n",
    "In particular here: https://lcvmwww.epfl.ch/~lcvm/dna_teaching_05_06/exercises/sol5.pdf\n",
    "\n",
    "The system consists of two rigid rods connected to the floor and each other by spring-loaded joints.\n",
    "Its configuration is described by two solution variables $\\theta$ and $\\phi$ giving the angle between each rod and the vertical. \n",
    "\n",
    "The bottom spring has the neutral position straight up ($\\theta=0$) and the spring between the two rods has the neutral \n",
    "position when the rods for a straight line ($\\phi = \\theta$). At the end of the second rod a load $\\lambda\\geq 0$ is added, pointing straight down.\n",
    "\n",
    "The interactive graphic below illustrates the configuration. It is completely unconstraied, i.e. the configurations shown are not necessarily solutions to the equilibrum problem."
   ]
  },
  {
   "cell_type": "code",
   "execution_count": 1,
   "metadata": {},
   "outputs": [
    {
     "data": {
      "application/vnd.jupyter.widget-view+json": {
       "model_id": "98fba1ad9b5e41568c0706e6fe0ba850",
       "version_major": 2,
       "version_minor": 0
      },
      "text/plain": [
       "VBox(children=(HTML(value='<div style=\"max-width: 500px\"><svg viewBox=\"-250 -250 500 300\" xmlns=\"http://www.w3…"
      ]
     },
     "metadata": {},
     "output_type": "display_data"
    }
   ],
   "source": [
    "from ipywidgets import FloatSlider, VBox, HBox, HTML\n",
    "from math import pi\n",
    "from tworod import draw_solution_svg\n",
    "\n",
    "solution = HTML()\n",
    "theta = FloatSlider(value=0.49082376, min=-pi, max=pi, step=1e-4, description='theta')\n",
    "phi = FloatSlider(value=0.78532203, min=-pi, max=pi, step=1e-4, description='phi')\n",
    "lam = FloatSlider(min=0.41651516, max=5, step=1e-4, description='lambda')\n",
    "\n",
    "def update_solution(*_unused):\n",
    "    svg = draw_solution_svg((theta.value, phi.value), lam.value)\n",
    "    solution.value = (f'<div style=\"max-width: 500px\">{svg}</div>')\n",
    "update_solution()\n",
    "\n",
    "theta.observe(update_solution, 'value')\n",
    "phi.observe(update_solution, 'value')\n",
    "lam.observe(update_solution, 'value')\n",
    "\n",
    "VBox([solution, HBox([theta, phi, lam])])"
   ]
  },
  {
   "cell_type": "code",
   "execution_count": null,
   "metadata": {},
   "outputs": [],
   "source": []
  }
 ],
 "metadata": {
  "kernelspec": {
   "display_name": "Python 3",
   "language": "python",
   "name": "python3"
  },
  "language_info": {
   "codemirror_mode": {
    "name": "ipython",
    "version": 3
   },
   "file_extension": ".py",
   "mimetype": "text/x-python",
   "name": "python",
   "nbconvert_exporter": "python",
   "pygments_lexer": "ipython3",
   "version": "3.7.3"
  }
 },
 "nbformat": 4,
 "nbformat_minor": 4
}
