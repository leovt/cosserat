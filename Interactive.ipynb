{
 "cells": [
  {
   "cell_type": "markdown",
   "metadata": {},
   "source": [
    "# The Two-Rigid-Rod-Problem\n",
    "\n",
    "The problem is taken from a series of exercises in a numerical analysis course by Prof. John H. Maddocks.\n",
    "In particular here: https://lcvmwww.epfl.ch/~lcvm/dna_teaching_05_06/exercises/sol5.pdf\n",
    "\n",
    "The system consists of two rigid rods connected to the floor and each other by spring-loaded joints.\n",
    "Its configuration is described by two solution variables $\\theta$ and $\\phi$ giving the angle between each rod and the vertical. \n",
    "\n",
    "The bottom spring has the neutral position straight up ($\\theta=0$) and the spring between the two rods has the neutral \n",
    "position when the rods for a straight line ($\\phi = \\theta$). At the end of the second rod a load $\\lambda\\geq 0$ is added, pointing straight down.\n",
    "\n",
    "The interactive graphic below illustrates the configuration. It is completely unconstraied, i.e. the configurations shown are not necessarily solutions to the equilibrum problem."
   ]
  },
  {
   "cell_type": "code",
   "execution_count": 1,
   "metadata": {},
   "outputs": [
    {
     "data": {
      "application/vnd.jupyter.widget-view+json": {
       "model_id": "cd5082e15f324e93b9e0fa3d9f92a8e3",
       "version_major": 2,
       "version_minor": 0
      },
      "text/plain": [
       "VBox(children=(HTML(value='<div style=\"max-width: 500px\"><svg viewBox=\"-250 -250 500 500\" xmlns=\"http://www.w3…"
      ]
     },
     "metadata": {},
     "output_type": "display_data"
    }
   ],
   "source": [
    "from ipywidgets import FloatSlider, VBox, HBox, HTML\n",
    "from math import pi\n",
    "from tworod import draw_solution_svg\n",
    "\n",
    "solution = HTML()\n",
    "theta = FloatSlider(value=0.49082376, min=-pi, max=pi, step=1e-4, description='theta')\n",
    "phi = FloatSlider(value=0.78532203, min=-pi, max=pi, step=1e-4, description='phi')\n",
    "lam = FloatSlider(min=0.41651516, max=5, step=1e-4, description='lambda')\n",
    "\n",
    "def update_solution(*_unused):\n",
    "    svg = draw_solution_svg((theta.value, phi.value), lam.value)\n",
    "    solution.value = (f'<div style=\"max-width: 500px\">{svg}</div>')\n",
    "update_solution()\n",
    "\n",
    "theta.observe(update_solution, 'value')\n",
    "phi.observe(update_solution, 'value')\n",
    "lam.observe(update_solution, 'value')\n",
    "\n",
    "VBox([solution, theta, phi, lam])"
   ]
  },
  {
   "cell_type": "markdown",
   "metadata": {},
   "source": [
    "## Finding Equilibrium Solutions\n",
    "\n",
    "We are interested in finding equilibrium solutions for this system, for various loads $\\lambda$. \n",
    "Without any load the solution $\\theta = \\phi = 0$ is an equilibrium solution. In fact the springs in the joints make it a stable equilibrium. This is the solution from which we will use parameter continuation to find other solutions.\n",
    "\n",
    "The continuation itself happens in the `branch.extend` calls below."
   ]
  },
  {
   "cell_type": "code",
   "execution_count": 2,
   "metadata": {},
   "outputs": [],
   "source": [
    "from continuation import BifurcationAnalysis, BifWidget\n",
    "import tworod\n",
    "\n",
    "bif = BifurcationAnalysis(tworod.F, tworod.J, tworod.F_lam, (0,0), 0)\n",
    "bif.branches[0].extend(6)"
   ]
  },
  {
   "cell_type": "markdown",
   "metadata": {},
   "source": [
    "The following code creates an interactive diagram. On the left you can see the bifurcation diagram. By clicking a point on the bifurcation diagram the corresponding solution is displayed below. On the right you can see a heatmap of the potential for the given $\\lambda$. We will discuss the various branches below. The axes on the bifurcation diagram are the load $\\lambda$ and the first angle $\\theta$. The solution space is not planar, so we have to make a choice of the variables shown. The branches go in fact in different directions in the $(\\theta, \\phi)$ space."
   ]
  },
  {
   "cell_type": "code",
   "execution_count": 3,
   "metadata": {
    "scrolled": false
   },
   "outputs": [
    {
     "data": {
      "application/vnd.jupyter.widget-view+json": {
       "model_id": "2e1894611cdf493a96d30d1d52edda2e",
       "version_major": 2,
       "version_minor": 0
      },
      "text/plain": [
       "Canvas(toolbar=Toolbar(toolitems=[('Home', 'Reset original view', 'home', 'home'), ('Back', 'Back to previous …"
      ]
     },
     "metadata": {},
     "output_type": "display_data"
    },
    {
     "data": {
      "application/vnd.jupyter.widget-view+json": {
       "model_id": "3e954a1bcc4740029c0a2903ff181942",
       "version_major": 2,
       "version_minor": 0
      },
      "text/plain": [
       "HTML(value='<p>J = [[ 2. -1.]\\n [-1.  1.]]</p><p>Eigenvalue 2.618: 0.851, 0.526</p><p>Eigenvalue 0.382: -0.526…"
      ]
     },
     "metadata": {},
     "output_type": "display_data"
    }
   ],
   "source": [
    "%%capture --no-stdout --no-display\n",
    "%matplotlib widget\n",
    "import matplotlib.pyplot as plt\n",
    "import numpy as np\n",
    "fig, [ax, ax_field] = plt.subplots(nrows=1, ncols=2, figsize=(8, 4))\n",
    "fig.canvas.header_visible = False\n",
    "ax.set_xlabel('λ'); ax.set_ylabel('θ'); ax.set_title('Bifurcation Diagram')\n",
    "ax_field.set_xlabel('θ'); ax_field.set_ylabel('φ'); ax_field.set_title('Potential')\n",
    "cursor, = ax.plot([0],[0],'o')\n",
    "for i, b in enumerate(bif.branches):\n",
    "    line, = ax.plot(b.param, b.soln[:,0], picker=5);\n",
    "    line.branch_index = i\n",
    "    line.branch = b\n",
    "out = HTML('out')\n",
    "\n",
    "def on_pick(event):\n",
    "    pick_event = event\n",
    "    ind = event.ind[len(event.ind)//2]\n",
    "    soln = event.artist.branch.soln[ind]\n",
    "    param = event.artist.branch.param[ind]\n",
    "    out.value = f'{ind}, {event.artist.branch_index}: {soln}'\n",
    "    update_graphics(soln, param)\n",
    "\n",
    "def update_graphics(soln, param):\n",
    "    update_svg(soln, param)\n",
    "    update_vectorfield(soln, param)\n",
    "    \n",
    "def update_svg(soln, param):\n",
    "    svg = draw_solution_svg(soln, param)\n",
    "    J = bif.J(soln, param)\n",
    "    [r1, r2], [v1, v2] = np.linalg.eig(J)\n",
    "    out.value = (f'<p>J = {J}</p>'\n",
    "                 f'<p>Eigenvalue {r1:0.3f}: {v1[0]:0.3f}, {v1[1]:0.3f}</p>'\n",
    "                 f'<p>Eigenvalue {r2:0.3f}: {v2[0]:0.3f}, {v2[1]:0.3f}</p>'\n",
    "                 f'<div style=\"max-width: 600px\">{svg}</div>')\n",
    "\n",
    "def update_vectorfield(soln, param):\n",
    "    ax_field.clear()\n",
    "    ax_field.set_xlabel('θ'); ax_field.set_ylabel('φ'); ax_field.set_title('Potential')\n",
    "    HALF_BOX = 3.2\n",
    "    g = np.meshgrid(np.linspace(-HALF_BOX,HALF_BOX,50),np.linspace(-HALF_BOX,HALF_BOX,50))\n",
    "    x,y = g\n",
    "    z = tworod.E(g, param)\n",
    "    #z = np.log(z + 1 - np.min(z))\n",
    "    # x and y are bounds, so z should be the value *inside* those bounds.\n",
    "    # Therefore, remove the last value from the z array.\n",
    "    z = z[:-1, :-1]\n",
    "    z_min, z_max = z.min(), z.max()\n",
    "    ax_field.pcolormesh(x, y, z, cmap='coolwarm', vmin=z_min, vmax=z_max)\n",
    "    g = np.meshgrid(np.linspace(-HALF_BOX,HALF_BOX,11),np.linspace(-HALF_BOX,HALF_BOX,11))\n",
    "    w = -bif.F(g, param)\n",
    "    w /= np.linalg.norm(w, axis=0)\n",
    "    u,v = w\n",
    "    x,y = g\n",
    "    ax_field.plot(soln[0],soln[1],'o', color='lightgreen', mec='black')\n",
    "    ax_field.quiver(x,y,u,v)\n",
    "    \n",
    "    cursor.set_xdata([param])\n",
    "    cursor.set_ydata([soln[0]])\n",
    "    \n",
    "update_graphics((0,0), 0)\n",
    "cid = fig.canvas.mpl_connect('pick_event', on_pick)\n",
    "out"
   ]
  },
  {
   "cell_type": "markdown",
   "metadata": {},
   "source": [
    "The bifurcation diagram consists of 5 branches. \n",
    "* The horizontal axis corresponds to the straight up solutions ($\\theta = \\phi = 0$). For small loads this is stable, for higher loads it is an unstable equilibrium.\n",
    "  * Until the first bifurcation point this is a stable equilibrium, the springs are strong enough to hold the load.\n",
    "  * After the first bifurcation point it becomes an unstable solution, first a saddle with one negative eigenvalue.\n",
    "  * After the second bifurcation it is a local maximum in the potential with two negative eigenvalues.\n",
    "\n",
    "* The two branches starting at the first bifurcation point correspond to solution where the rods lean to one side, \n",
    "  i.e. $\\theta$ and $\\phi$ have the same sign. They are stable equilibria for higher loads.\n",
    "  \n",
    "* The two remaining branches starting at the second bifurcation point correspond to the rod folding in on itself.\n",
    "  They are unstable (saddle) equilibria. The signs of $\\theta$ and $\\phi$ are opposite."
   ]
  },
  {
   "cell_type": "code",
   "execution_count": null,
   "metadata": {},
   "outputs": [],
   "source": []
  }
 ],
 "metadata": {
  "kernelspec": {
   "display_name": "Python 3",
   "language": "python",
   "name": "python3"
  },
  "language_info": {
   "codemirror_mode": {
    "name": "ipython",
    "version": 3
   },
   "file_extension": ".py",
   "mimetype": "text/x-python",
   "name": "python",
   "nbconvert_exporter": "python",
   "pygments_lexer": "ipython3",
   "version": "3.7.3"
  }
 },
 "nbformat": 4,
 "nbformat_minor": 4
}
